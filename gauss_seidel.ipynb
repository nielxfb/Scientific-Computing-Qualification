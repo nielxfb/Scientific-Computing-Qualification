{
 "cells": [
  {
   "cell_type": "code",
   "execution_count": 2,
   "metadata": {},
   "outputs": [],
   "source": [
    "import numpy as np"
   ]
  },
  {
   "cell_type": "code",
   "execution_count": 3,
   "metadata": {},
   "outputs": [],
   "source": [
    "Xs = [\n",
    "    [\n",
    "        [4, -1, 0],\n",
    "        [-1, 4, -1],\n",
    "        [0, -1, 3]\n",
    "    ],\n",
    "    [\n",
    "        [3, -1, 0],\n",
    "        [-1, 4, -2],\n",
    "        [0, -2, 4]\n",
    "    ],\n",
    "    [\n",
    "        [2, 1, 1],\n",
    "        [1, 3, 2],\n",
    "        [1, 2, 4]\n",
    "    ]\n",
    "]\n",
    "Ys = [\n",
    "    [5, 5, 0],\n",
    "    [4, 3, 2],\n",
    "    [7, 10, 14]\n",
    "]"
   ]
  },
  {
   "cell_type": "code",
   "execution_count": 4,
   "metadata": {},
   "outputs": [],
   "source": [
    "def gauss_seidel(x, y):\n",
    "    x = np.array(x)\n",
    "    y = np.array(y)\n",
    "    # NIM: 2602105046\n",
    "    eps = 0.046\n",
    "    max_iter = 100\n",
    "\n",
    "    mat_old = np.zeros(x.shape[0])\n",
    "\n",
    "    real_diag = np.array(np.diag(x))\n",
    "    diag = np.diag(np.abs(x))\n",
    "    np.fill_diagonal(x, 0)\n",
    "\n",
    "    off_diag = np.sum(np.abs(x), axis=1)\n",
    "\n",
    "    if not np.all(diag > off_diag):\n",
    "        print(\"Not diagonally dominant\\n\")\n",
    "        return\n",
    "    \n",
    "    x = -x\n",
    "\n",
    "    for j in range(max_iter):\n",
    "        mat_new = np.array(mat_old)\n",
    "\n",
    "        for k, row in enumerate(x):\n",
    "            mat_new[k] = (y[k] + np.dot(row, mat_new)) / real_diag[k]\n",
    "\n",
    "        print(f\"Iter: {j+1}, {mat_new}\")\n",
    "\n",
    "        dx = np.sqrt(np.dot(mat_new - mat_old, mat_new - mat_old))\n",
    "\n",
    "        if dx < eps:\n",
    "            print(f\"Converged in {j+1} iterations\\n\")\n",
    "            return\n",
    "        \n",
    "        mat_old = mat_new\n",
    "\n",
    "    print(f\"Does not converge in {max_iter} iterations\\n\")\n",
    "    return"
   ]
  },
  {
   "cell_type": "code",
   "execution_count": 5,
   "metadata": {},
   "outputs": [
    {
     "name": "stdout",
     "output_type": "stream",
     "text": [
      "A: [[4, -1, 0], [-1, 4, -1], [0, -1, 3]], y = [5, 5, 0]\n",
      "Iter: 1, [1.25       1.5625     0.52083333]\n",
      "Iter: 2, [1.640625   1.79036458 0.59678819]\n",
      "Iter: 3, [1.69759115 1.82359484 0.60786495]\n",
      "Iter: 4, [1.70589871 1.82844091 0.6094803 ]\n",
      "Converged in 4 iterations\n",
      "\n",
      "A: [[3, -1, 0], [-1, 4, -2], [0, -2, 4]], y = [4, 3, 2]\n",
      "Iter: 1, [1.33333333 1.08333333 1.04166667]\n",
      "Iter: 2, [1.69444444 1.69444444 1.34722222]\n",
      "Iter: 3, [1.89814815 1.89814815 1.44907407]\n",
      "Iter: 4, [1.96604938 1.96604938 1.48302469]\n",
      "Iter: 5, [1.98868313 1.98868313 1.49434156]\n",
      "Converged in 5 iterations\n",
      "\n",
      "A: [[2, 1, 1], [1, 3, 2], [1, 2, 4]], y = [7, 10, 14]\n",
      "Not diagonally dominant\n",
      "\n"
     ]
    }
   ],
   "source": [
    "for (x, y) in zip(Xs, Ys):\n",
    "    print(f\"A: {x}, y = {y}\")\n",
    "    gauss_seidel(x, y)"
   ]
  }
 ],
 "metadata": {
  "kernelspec": {
   "display_name": "Python 3",
   "language": "python",
   "name": "python3"
  },
  "language_info": {
   "codemirror_mode": {
    "name": "ipython",
    "version": 3
   },
   "file_extension": ".py",
   "mimetype": "text/x-python",
   "name": "python",
   "nbconvert_exporter": "python",
   "pygments_lexer": "ipython3",
   "version": "3.12.1"
  }
 },
 "nbformat": 4,
 "nbformat_minor": 2
}
