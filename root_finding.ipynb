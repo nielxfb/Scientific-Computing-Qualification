{
 "cells": [
  {
   "cell_type": "code",
   "execution_count": 6,
   "metadata": {},
   "outputs": [],
   "source": [
    "import numpy as np"
   ]
  },
  {
   "cell_type": "code",
   "execution_count": 7,
   "metadata": {},
   "outputs": [],
   "source": [
    "f = lambda x : x**3 + 2*x**2 - x + 1\n",
    "df = lambda x : 3*x**2 + 4*x - 1"
   ]
  },
  {
   "cell_type": "code",
   "execution_count": 14,
   "metadata": {},
   "outputs": [],
   "source": [
    "# NIM: 2602105046\n",
    "def newton_raphson(x, tol=0.046):\n",
    "    iter = 1\n",
    "    loop = 15\n",
    "    while (iter <= loop):\n",
    "        x_new = x - (f(x)/df(x))\n",
    "        print(\"Iteration-%-3d: x = %d\" % (iter, x_new))\n",
    "        if (np.abs(x_new - x) < tol):\n",
    "            print(f\"\\nRoot found after {iter} iterations\")\n",
    "            print(f\"Root of equation = {x_new}\")\n",
    "            break\n",
    "        else:\n",
    "            x = x_new\n",
    "            iter += 1\n",
    "    if (iter > loop):\n",
    "        print(\"\\nMax iterations reached. Root of equation not found\")"
   ]
  },
  {
   "cell_type": "code",
   "execution_count": 15,
   "metadata": {},
   "outputs": [
    {
     "name": "stdout",
     "output_type": "stream",
     "text": [
      "Iteration-1  : x = 1\n",
      "Iteration-2  : x = 1\n",
      "Iteration-3  : x = 0\n",
      "Iteration-4  : x = 0\n",
      "Iteration-5  : x = 1\n",
      "Iteration-6  : x = 0\n",
      "Iteration-7  : x = 0\n",
      "Iteration-8  : x = -4\n",
      "Iteration-9  : x = -3\n",
      "Iteration-10 : x = -2\n",
      "Iteration-11 : x = -2\n",
      "Iteration-12 : x = -2\n",
      "\n",
      "Root found after 12 iterations\n",
      "Root of equation = -2.5470505354029758\n"
     ]
    }
   ],
   "source": [
    "newton_raphson(3)"
   ]
  },
  {
   "cell_type": "code",
   "execution_count": 10,
   "metadata": {},
   "outputs": [],
   "source": [
    "def bisection(a, b, tol=0.0046):\n",
    "    if(np.sign(f(a)) == np.sign(f(b))):\n",
    "        return\n",
    "\n",
    "    m = a + (b-a) / 2\n",
    "\n",
    "    if(np.abs(f(m)) < tol):\n",
    "        return m\n",
    "    elif(np.sign(f(a)) == np.sign(f(m))):\n",
    "        return bisection(m, b, tol)\n",
    "    elif(np.sign(f(b)) == np.sign(f(m))):\n",
    "        return bisection(a, m, tol)"
   ]
  },
  {
   "cell_type": "code",
   "execution_count": 11,
   "metadata": {},
   "outputs": [
    {
     "name": "stdout",
     "output_type": "stream",
     "text": [
      "Root of equation: -2.54638671875\n"
     ]
    }
   ],
   "source": [
    "x = -10\n",
    "y = 10\n",
    "\n",
    "if(bisection(x, y) == None):\n",
    "    print(\"Root not found\")\n",
    "else:\n",
    "    print(f\"Root of equation: {bisection(x, y)}\")"
   ]
  }
 ],
 "metadata": {
  "kernelspec": {
   "display_name": ".venv",
   "language": "python",
   "name": "python3"
  },
  "language_info": {
   "codemirror_mode": {
    "name": "ipython",
    "version": 3
   },
   "file_extension": ".py",
   "mimetype": "text/x-python",
   "name": "python",
   "nbconvert_exporter": "python",
   "pygments_lexer": "ipython3",
   "version": "3.12.1"
  }
 },
 "nbformat": 4,
 "nbformat_minor": 2
}
