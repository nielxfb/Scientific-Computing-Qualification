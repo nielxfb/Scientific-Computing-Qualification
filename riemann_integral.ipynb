{
 "cells": [
  {
   "cell_type": "code",
   "execution_count": 1,
   "metadata": {},
   "outputs": [],
   "source": [
    "import numpy as np"
   ]
  },
  {
   "cell_type": "code",
   "execution_count": 4,
   "metadata": {},
   "outputs": [],
   "source": [
    "f = lambda x : 6*x**3 + 4*x**2 + 2*x + 5"
   ]
  },
  {
   "cell_type": "code",
   "execution_count": 14,
   "metadata": {},
   "outputs": [
    {
     "name": "stdout",
     "output_type": "stream",
     "text": [
      "Left Riemann Sum     : 101\n",
      "Right Riemann Sum    : 102\n",
      "Midpoint Riemann Sum : 102\n",
      "Trapezoidal Rule     : 102\n"
     ]
    }
   ],
   "source": [
    "a = -3\n",
    "b = 3\n",
    "n = 3000\n",
    "\n",
    "x = np.linspace(a, b, n)\n",
    "h = (b-a)/(n-1)\n",
    "\n",
    "y = f(x)\n",
    "\n",
    "I_left = h*np.sum(y[:-1])\n",
    "I_right = h*np.sum(y[1:])\n",
    "I_mid = h*np.sum(y[:-1] + y[1:])/2\n",
    "I_trap = h*(y[0] + y[-1] + 2*np.sum(y[1:-1]))/2\n",
    "\n",
    "print(\"%-21s: %d\" % (\"Left Riemann Sum\", I_left))\n",
    "print(\"%-21s: %d\" % (\"Right Riemann Sum\", I_right))\n",
    "print(\"%-21s: %d\" % (\"Midpoint Riemann Sum\", I_mid))\n",
    "print(\"%-21s: %d\" % (\"Trapezoidal Rule\", I_trap))"
   ]
  }
 ],
 "metadata": {
  "kernelspec": {
   "display_name": ".venv",
   "language": "python",
   "name": "python3"
  },
  "language_info": {
   "codemirror_mode": {
    "name": "ipython",
    "version": 3
   },
   "file_extension": ".py",
   "mimetype": "text/x-python",
   "name": "python",
   "nbconvert_exporter": "python",
   "pygments_lexer": "ipython3",
   "version": "3.12.1"
  }
 },
 "nbformat": 4,
 "nbformat_minor": 2
}
